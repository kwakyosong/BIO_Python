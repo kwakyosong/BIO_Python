{
  "nbformat": 4,
  "nbformat_minor": 0,
  "metadata": {
    "colab": {
      "provenance": [],
      "authorship_tag": "ABX9TyOb+OHnQlI+mJl4fVPITB8z",
      "include_colab_link": true
    },
    "kernelspec": {
      "name": "python3",
      "display_name": "Python 3"
    },
    "language_info": {
      "name": "python"
    }
  },
  "cells": [
    {
      "cell_type": "markdown",
      "metadata": {
        "id": "view-in-github",
        "colab_type": "text"
      },
      "source": [
        "<a href=\"https://colab.research.google.com/github/kwakyosong/BIO_Python/blob/main/F%EA%B2%80%EC%A0%95_%EB%B6%84%EC%82%B0%EB%B6%84%EC%84%9D_%EA%B8%B0%EB%B3%B8.ipynb\" target=\"_parent\"><img src=\"https://colab.research.google.com/assets/colab-badge.svg\" alt=\"Open In Colab\"/></a>"
      ]
    },
    {
      "cell_type": "code",
      "execution_count": 1,
      "metadata": {
        "colab": {
          "base_uri": "https://localhost:8080/"
        },
        "id": "C0CDtVxf47Cq",
        "outputId": "fa34bcf6-719a-4e5b-86b1-4693da11e6a4"
      },
      "outputs": [
        {
          "output_type": "stream",
          "name": "stdout",
          "text": [
            "F-statistic: 34.67\n",
            "P-value: 0.0000\n"
          ]
        }
      ],
      "source": [
        "from scipy.stats import f_oneway\n",
        "\n",
        "# 세 가지 약물 투여 후 혈압 감소 수치 (세 그룹의 데이터)\n",
        "# 약물 A 투여 후 혈압 감소 수치\n",
        "drug_A = [12, 15, 14, 10, 13]\n",
        "# 약물 B 투여 후 혈압 감소 수치\n",
        "drug_B = [18, 20, 17, 19, 22]\n",
        "# 약물 C 투여 후 혈압 감소 수치\n",
        "drug_C = [9, 8, 12, 7, 10]\n",
        "\n",
        "# F 검정 수행 (일원분산분석)\n",
        "f_stat, p_value = f_oneway(drug_A, drug_B, drug_C)\n",
        "\n",
        "# 결과 출력\n",
        "print(f\"F-statistic: {f_stat:.2f}\")\n",
        "print(f\"P-value: {p_value:.4f}\")\n"
      ]
    }
  ]
}