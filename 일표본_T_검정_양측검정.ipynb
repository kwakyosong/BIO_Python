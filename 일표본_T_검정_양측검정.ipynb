{
  "nbformat": 4,
  "nbformat_minor": 0,
  "metadata": {
    "colab": {
      "provenance": [],
      "authorship_tag": "ABX9TyP6kaEJqh9x7VfRBBQHgp8G",
      "include_colab_link": true
    },
    "kernelspec": {
      "name": "python3",
      "display_name": "Python 3"
    },
    "language_info": {
      "name": "python"
    }
  },
  "cells": [
    {
      "cell_type": "markdown",
      "metadata": {
        "id": "view-in-github",
        "colab_type": "text"
      },
      "source": [
        "<a href=\"https://colab.research.google.com/github/kwakyosong/BIO_Python/blob/main/%EC%9D%BC%ED%91%9C%EB%B3%B8_T_%EA%B2%80%EC%A0%95_%EC%96%91%EC%B8%A1%EA%B2%80%EC%A0%95.ipynb\" target=\"_parent\"><img src=\"https://colab.research.google.com/assets/colab-badge.svg\" alt=\"Open In Colab\"/></a>"
      ]
    },
    {
      "cell_type": "code",
      "execution_count": null,
      "metadata": {
        "colab": {
          "base_uri": "https://localhost:8080/"
        },
        "id": "cyMjiVlanrZS",
        "outputId": "4a915500-10ef-4454-9948-ba34189fe10a"
      },
      "outputs": [
        {
          "output_type": "stream",
          "name": "stdout",
          "text": [
            "Two-Sided T-test: T-statistic: 1.30, P-value: 0.2301\n",
            "One-Sided T-test: T-statistic: 1.30, P-value: 0.1151\n"
          ]
        }
      ],
      "source": [
        "from scipy.stats import ttest_1samp, t\n",
        "import numpy as np\n",
        "\n",
        "# 약물 효과 데이터\n",
        "# 샘플 데이터를 NumPy 배열로 변환\n",
        "sample_data = np.array([88, 78, 64, 92, 57, 70, 88, 68, 72])\n",
        "# 비교할 모집단 평균\n",
        "p_mean = 70\n",
        "# T 검정 수행 (양측 검정)\n",
        "t_stat_two_sided, p_value_two_sided = ttest_1samp(sample_data, p_mean)\n",
        "# 자유도 계산\n",
        "degrees_of_freedom = len(sample_data) - 1\n",
        "# 유의수준 및 임계값 설정\n",
        "alpha = 0.05 # 유의수준 설정\n",
        "t_critical_two_sided = t.ppf(1 - alpha / 2, degrees_of_freedom) # 양측 검정에서 임계값 계산\n",
        "# 결과 출력 (양측 검정)\n",
        "print(f\"Two-Sided T-test: T-statistic: {t_stat_two_sided:.2f}, P-value: {p_value_two_sided:.4f}\")\n",
        "# 단측 검정 (하측 검정)\n",
        "t_stat_one_sided, p_value_one_sided = ttest_1samp(sample_data, p_mean)\n",
        "# 단측 p-value 계산\n",
        "p_value_one_sided /= 2 # 단측 검정에서 p-value는 양측 p-value의 절반\n",
        "# 단측 기각 기준\n",
        "t_critical_one_sided = t.ppf(1 - alpha, degrees_of_freedom) # 단측 검정에서 임계값 계산\n",
        "# 결과 출력 (단측 검정)\n",
        "print(f\"One-Sided T-test: T-statistic: {t_stat_one_sided:.2f}, P-value: {p_value_one_sided:.4f}\")\n"
      ]
    }
  ]
}