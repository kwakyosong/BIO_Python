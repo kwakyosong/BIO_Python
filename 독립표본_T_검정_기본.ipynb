{
  "nbformat": 4,
  "nbformat_minor": 0,
  "metadata": {
    "colab": {
      "provenance": [],
      "authorship_tag": "ABX9TyMbJb6csnXgt2yP3VMXaBg1",
      "include_colab_link": true
    },
    "kernelspec": {
      "name": "python3",
      "display_name": "Python 3"
    },
    "language_info": {
      "name": "python"
    }
  },
  "cells": [
    {
      "cell_type": "markdown",
      "metadata": {
        "id": "view-in-github",
        "colab_type": "text"
      },
      "source": [
        "<a href=\"https://colab.research.google.com/github/kwakyosong/BIO_Python/blob/main/%EB%8F%85%EB%A6%BD%ED%91%9C%EB%B3%B8_T_%EA%B2%80%EC%A0%95_%EA%B8%B0%EB%B3%B8.ipynb\" target=\"_parent\"><img src=\"https://colab.research.google.com/assets/colab-badge.svg\" alt=\"Open In Colab\"/></a>"
      ]
    },
    {
      "cell_type": "code",
      "execution_count": 1,
      "metadata": {
        "colab": {
          "base_uri": "https://localhost:8080/"
        },
        "id": "QOJQ4-LTvhn2",
        "outputId": "f3e24b0a-9a78-43f4-c7d5-586c1fdbe8e0"
      },
      "outputs": [
        {
          "output_type": "stream",
          "name": "stdout",
          "text": [
            "T-statistic: 0.73, P-value: 0.4865\n"
          ]
        }
      ],
      "source": [
        "from scipy.stats import ttest_ind\n",
        "\n",
        "# 두 그룹의 데이터\n",
        "group1 = [88, 78, 64, 92, 57]  # 약물 복용 그룹\n",
        "group2 = [72, 69, 75, 70, 68]  # 비복용 그룹\n",
        "\n",
        "# T 검정 수행\n",
        "t_stat, p_value = ttest_ind(group1, group2)\n",
        "\n",
        "# 결과 출력\n",
        "print(f\"T-statistic: {t_stat:.2f}, P-value: {p_value:.4f}\")\n",
        "\n"
      ]
    }
  ]
}