{
  "nbformat": 4,
  "nbformat_minor": 0,
  "metadata": {
    "colab": {
      "provenance": [],
      "authorship_tag": "ABX9TyNIkQ2QNR6NgawhMVRyDpAA",
      "include_colab_link": true
    },
    "kernelspec": {
      "name": "python3",
      "display_name": "Python 3"
    },
    "language_info": {
      "name": "python"
    }
  },
  "cells": [
    {
      "cell_type": "markdown",
      "metadata": {
        "id": "view-in-github",
        "colab_type": "text"
      },
      "source": [
        "<a href=\"https://colab.research.google.com/github/kwakyosong/BIO_Python/blob/main/%EB%8C%80%EC%9D%91%ED%91%9C%EB%B3%B8_T_%EA%B2%80%EC%A0%95_%EA%B8%B0%EB%B3%B8.ipynb\" target=\"_parent\"><img src=\"https://colab.research.google.com/assets/colab-badge.svg\" alt=\"Open In Colab\"/></a>"
      ]
    },
    {
      "cell_type": "code",
      "execution_count": 1,
      "metadata": {
        "colab": {
          "base_uri": "https://localhost:8080/"
        },
        "id": "HKaMr_zkHZqF",
        "outputId": "5cc8d218-27af-422f-bdff-ddc719854b1c"
      },
      "outputs": [
        {
          "output_type": "stream",
          "name": "stdout",
          "text": [
            "T-statistic: 0.73, P-value: 0.5058\n"
          ]
        }
      ],
      "source": [
        "from scipy.stats import ttest_rel\n",
        "\n",
        "# 약물 투여 전후 데이터\n",
        "# 투여 전 효과\n",
        "before_treat = [88, 78, 64, 92, 57]\n",
        "# 투여 후 효과\n",
        "after_treat = [72, 69, 75, 70, 68]\n",
        "\n",
        "# T 검정 수행\n",
        "t_stat, p_value = ttest_rel(before_treat, after_treat)\n",
        "\n",
        "# 결과 출력\n",
        "print(f\"T-statistic: {t_stat:.2f}, P-value: {p_value:.4f}\")"
      ]
    }
  ]
}