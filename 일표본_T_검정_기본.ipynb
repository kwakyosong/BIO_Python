{
  "nbformat": 4,
  "nbformat_minor": 0,
  "metadata": {
    "colab": {
      "provenance": [],
      "authorship_tag": "ABX9TyPAX58KMkOTGsMqNIyuCN5v",
      "include_colab_link": true
    },
    "kernelspec": {
      "name": "python3",
      "display_name": "Python 3"
    },
    "language_info": {
      "name": "python"
    }
  },
  "cells": [
    {
      "cell_type": "markdown",
      "metadata": {
        "id": "view-in-github",
        "colab_type": "text"
      },
      "source": [
        "<a href=\"https://colab.research.google.com/github/kwakyosong/BIO_Python/blob/main/%EC%9D%BC%ED%91%9C%EB%B3%B8_T_%EA%B2%80%EC%A0%95_%EA%B8%B0%EB%B3%B8.ipynb\" target=\"_parent\"><img src=\"https://colab.research.google.com/assets/colab-badge.svg\" alt=\"Open In Colab\"/></a>"
      ]
    },
    {
      "cell_type": "code",
      "execution_count": null,
      "metadata": {
        "colab": {
          "base_uri": "https://localhost:8080/"
        },
        "id": "NB6SdWLdnShk",
        "outputId": "f1781946-fbfd-4fa2-e763-65f6e6a91490"
      },
      "outputs": [
        {
          "output_type": "stream",
          "name": "stdout",
          "text": [
            "T-statistic: 1.30, P-value: 0.2301\n"
          ]
        }
      ],
      "source": [
        "from scipy.stats import ttest_1samp\n",
        "\n",
        "# 약물 효과 데이터\n",
        "sample_data = [88, 78, 64, 92, 57, 70, 88, 68, 72]\n",
        "\n",
        "# 비교할 모집단 평균\n",
        "p_mean = 70\n",
        "\n",
        "# T 검정 수행\n",
        "t_stat, p_value = ttest_1samp(sample_data, p_mean)\n",
        "\n",
        "# 결과 출력\n",
        "print(f\"T-statistic: {t_stat:.2f}, P-value: {p_value:.4f}\")\n"
      ]
    }
  ]
}