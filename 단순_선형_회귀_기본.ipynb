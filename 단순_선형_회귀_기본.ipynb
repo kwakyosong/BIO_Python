{
  "nbformat": 4,
  "nbformat_minor": 0,
  "metadata": {
    "colab": {
      "provenance": [],
      "authorship_tag": "ABX9TyM4gFSdDqdgg8xpVgxshzEc",
      "include_colab_link": true
    },
    "kernelspec": {
      "name": "python3",
      "display_name": "Python 3"
    },
    "language_info": {
      "name": "python"
    }
  },
  "cells": [
    {
      "cell_type": "markdown",
      "metadata": {
        "id": "view-in-github",
        "colab_type": "text"
      },
      "source": [
        "<a href=\"https://colab.research.google.com/github/kwakyosong/BIO_Python/blob/main/%EB%8B%A8%EC%88%9C_%EC%84%A0%ED%98%95_%ED%9A%8C%EA%B7%80_%EA%B8%B0%EB%B3%B8.ipynb\" target=\"_parent\"><img src=\"https://colab.research.google.com/assets/colab-badge.svg\" alt=\"Open In Colab\"/></a>"
      ]
    },
    {
      "cell_type": "code",
      "execution_count": 1,
      "metadata": {
        "colab": {
          "base_uri": "https://localhost:8080/"
        },
        "id": "tvIb4ZjVws9p",
        "outputId": "2e9150a0-e743-4f91-bafd-dc6630cb6b3b"
      },
      "outputs": [
        {
          "output_type": "stream",
          "name": "stdout",
          "text": [
            "Slope (기울기): 0.85\n",
            "Intercept (절편): 6.87\n",
            "R-value (상관 계수): 0.99\n",
            "P-value (유의 확률): 0.0000\n",
            "Standard Error (표준 오차): 0.03\n"
          ]
        }
      ],
      "source": [
        "from scipy.stats import linregress\n",
        "\n",
        "# 독립 변수(X)와 종속 변수(Y) 데이터\n",
        "X = [10, 20, 30, 40, 50, 60, 70, 80, 90, 100]\n",
        "Y = [15, 24, 33, 45, 48, 55, 66, 70, 85, 95]\n",
        "\n",
        "# 선형 회귀 수행\n",
        "slope, intercept, r_value, p_value, std_err = linregress(X, Y)\n",
        "\n",
        "# 결과 출력\n",
        "print(f\"Slope (기울기): {slope:.2f}\")\n",
        "print(f\"Intercept (절편): {intercept:.2f}\")\n",
        "print(f\"R-value (상관 계수): {r_value:.2f}\")\n",
        "print(f\"P-value (유의 확률): {p_value:.4f}\")\n",
        "print(f\"Standard Error (표준 오차): {std_err:.2f}\")"
      ]
    }
  ]
}